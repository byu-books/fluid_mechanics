{
 "cells": [
  {
   "cell_type": "markdown",
   "metadata": {},
   "source": [
    "# Pump systems\n",
    "\n",
    "A pump is used to move fluid through a pipeline.\n",
    "\n",
    "<img src=pump2.png width=300 align=center>\n",
    "\n",
    "* The flow rate is controlled by a valve.\n",
    "* The pump supplies pressure at various flow rates. \n",
    "* If we divide the pressure by the fluid density and gravity, which are both constant, we get units of length, which we call a **head**.\n",
    "* So, we can plot **head** versus flow rate. Here's an example of a ***pump curve***\n",
    "    * We'll consider the 12.75 inch pump size (top curve).\n",
    "\n",
    "<img src=pump.png width=600 align=center>\n",
    "\n",
    "* The flow through the system is related by a mechanical energy balance:\n",
    "\n",
    "$$\n",
    "\\frac{\\Delta P}{\\rho g} + \\frac{\\Delta v^2}{2g} + \\Delta z = h_p -\\frac{fLv^2}{2Dg} - \\frac{Kv^2}{2g}\n",
    "$$\n",
    "* Here, $z$ is height, $f$ is the pipe friction factor, $L$ is the pipe length, $D$ is the pipe diameter, and $K$ is a valve coeficient.\n",
    "* We'll assume the tanks are open to the atmosphere, have no vecocity at the top surface, and are at the same height, so that the left hand side is zero. We're assuming no other friction losses besides the pipe and the valve. Rearrange to\n",
    "<font color=blue>\n",
    "    \n",
    "$$\n",
    "h_p = \\frac{fLv^2}{2Dg} + \\frac{Kv^2}{2g}.\n",
    "$$\n",
    "</font>\n",
    "\n",
    "* The system operates where the **operating curve (equation above)** and the **pump curve** in the figure intersect.\n",
    "    * That is, the system can operate anywhere on the operating curve defined by the equation above, (that is, any head/flow combination given by that equation), **but because the flow is driven by a pump, we are restricted to the points that also lie on the pump curve.**\n",
    "    * We adjust the intersection point, that is, the operating point of the system, by opening or closing the valve (changing $K$). This will effectively pivot the operating curve left or right about the origin.\n",
    "\n",
    "Consider a pump system with a pipe with the following parameters:\n",
    "* L = 35 m\n",
    "* f = 0.015\n",
    "* D = 0.1\n",
    "\n",
    "The operating point can be visualizaed by opening/closing a valve (changing $K$).\n"
   ]
  },
  {
   "cell_type": "code",
   "execution_count": 2,
   "metadata": {
    "tags": [
     "hide-input"
    ]
   },
   "outputs": [
    {
     "data": {
      "application/vnd.jupyter.widget-view+json": {
       "model_id": "060bb831e4874450abff8fdd842de382",
       "version_major": 2,
       "version_minor": 0
      },
      "text/plain": [
       "interactive(children=(IntSlider(value=50, description='K', step=5), Output()), _dom_classes=('widget-interact'…"
      ]
     },
     "metadata": {},
     "output_type": "display_data"
    }
   ],
   "source": [
    "import numpy as np\n",
    "import matplotlib.pyplot as plt\n",
    "from scipy.interpolate import interp1d\n",
    "from scipy.optimize import fsolve\n",
    "import pint; u = pint.UnitRegistry()\n",
    "\n",
    "import ipywidgets as wg\n",
    "from IPython.display import display\n",
    "\n",
    "Qp = np.array([1.16, 40.8, 80.5, 121, 161, 201, 240, 281, 321, 359, 401, 440, 480, 519, 560, 600, 640, 680, 720, 760, 800, 827])*u.gal/u.min\n",
    "hp = np.array([76.2, 76.2, 76.3, 76.0, 76.1, 75.6, 75.2, 74.7, 74.1, 73.0, 71.3, 69.7, 68.0, 65.7, 63.3, 60.5, 57.3, 53.7, 49.1, 43.7, 36.7, 30.9])*u.ft\n",
    "Qp.ito(u.m**3/u.s)\n",
    "hp.ito(u.m)\n",
    "Qp = Qp.magnitude\n",
    "hp = hp.magnitude\n",
    "\n",
    "def operatingcurve(Q, K):\n",
    "    L = 35\n",
    "    D = 0.1\n",
    "    f = 0.015\n",
    "    g = 9.81\n",
    "    \n",
    "    v = 4*Q/np.pi/D**2\n",
    "    \n",
    "    return f*L*v**2/2/D/g + K*v**2/2/g\n",
    "\n",
    "pumpcurve = interp1d(Qp, hp, fill_value='extrapolate')\n",
    "\n",
    "def get_operating_point(K):\n",
    "    \n",
    "    def F(Q,K):\n",
    "        return operatingcurve(Q,K)-pumpcurve(Q)\n",
    "    \n",
    "    Q = fsolve(F, 0.02, args=(K,))[0]\n",
    "    h = operatingcurve(Q,K)\n",
    "    print(f\"Q={Q:.3f} m^3/s,\\nh={h:.1f} m\")\n",
    "    \n",
    "    Qpts = np.linspace(np.min(Qp), np.max(Qp), 100)\n",
    "    plt.plot(Qpts, operatingcurve(Qpts,K))\n",
    "    plt.plot(Qpts, pumpcurve(Qpts))\n",
    "    plt.plot([Q], [h], 'o', markersize=10)\n",
    "    plt.ylim([0,30])\n",
    "    plt.xlabel(r'Q (m$^3$/s)')\n",
    "    plt.ylabel('h (m)')\n",
    "    \n",
    "\n",
    "wg.interact(get_operating_point, K=(0,100,5));"
   ]
  },
  {
   "cell_type": "code",
   "execution_count": null,
   "metadata": {},
   "outputs": [],
   "source": []
  }
 ],
 "metadata": {
  "kernelspec": {
   "display_name": "Python 3",
   "language": "python",
   "name": "python3"
  },
  "language_info": {
   "codemirror_mode": {
    "name": "ipython",
    "version": 3
   },
   "file_extension": ".py",
   "mimetype": "text/x-python",
   "name": "python",
   "nbconvert_exporter": "python",
   "pygments_lexer": "ipython3",
   "version": "3.8.5"
  },
  "varInspector": {
   "cols": {
    "lenName": 16,
    "lenType": 16,
    "lenVar": 40
   },
   "kernels_config": {
    "python": {
     "delete_cmd_postfix": "",
     "delete_cmd_prefix": "del ",
     "library": "var_list.py",
     "varRefreshCmd": "print(var_dic_list())"
    },
    "r": {
     "delete_cmd_postfix": ") ",
     "delete_cmd_prefix": "rm(",
     "library": "var_list.r",
     "varRefreshCmd": "cat(var_dic_list()) "
    }
   },
   "types_to_exclude": [
    "module",
    "function",
    "builtin_function_or_method",
    "instance",
    "_Feature"
   ],
   "window_display": false
  }
 },
 "nbformat": 4,
 "nbformat_minor": 4
}

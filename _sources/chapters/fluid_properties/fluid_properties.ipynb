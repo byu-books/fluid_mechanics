{
 "cells": [
  {
   "cell_type": "markdown",
   "id": "60293482",
   "metadata": {},
   "source": [
    "# Fluid Properties\n",
    "\n",
    "## Density\n",
    "\n",
    "The density of a fluid is the mass of the fluid per unit volume. \n",
    "\n",
    "The symbol $\\rho$ is typically used.\n",
    "\n",
    "Density is a point property in the sense that to get mass we have to multiply $\\rho$ by some volume. If the density is spatially uniform, we have $m=\\rho V$. For a differential volume element $dV$, we have $dm = \\rho dV$, and the mass over some finite volume can be evaluated by integration:\n",
    "\n",
    "```{math}\n",
    ":label: eq:m_rho\n",
    "m = \\int_V \\rho(\\mathbf{x})dV.\n",
    "```\n",
    "\n",
    "<!--todo: add pictures for variable rho, and pointwise >> molecular spacing -->\n",
    "\n",
    "In using the density this way in Eq. {eq}`eq:m_rho`, we are implicitly assuming the contiuum assumption holds. That is, all spatial variations in the density are at scales much larger that molecular sizes and spacings.\n",
    "\n",
    "### Ideal gases\n",
    "The ideal gas law is commonly written as $PV = nR_gT$. We rearrange this to $n/V = P/R_gT$, which is moles per volume. Multiplying both sides by the mean molecular weight M of the gas gives\n",
    "\n",
    "$$\\rho = \\frac{MP}{R_gT}.$$\n",
    "\n",
    "Table {numref}`tab:fluid_densities` gives densities for several fluids. Note that the difference in density between air and water is nearly a factor of one thousand. This allows important assumptions and simplifications in some calculations. This is illustrated in {numref}`fig:air_water_vol_comparison`\n",
    "\n",
    "```{table} Densities and specific gravities of several fluids.\n",
    ":name: tab:fluid_densities\n",
    "\n",
    "| fluid                     | $\\rho$ (kg/m$^3$) | $\\rho$ (lbm/ft$^3$) | SG          |\n",
    "|:--------------------------|:-----------------:|:-------------------:|:-----------:|\n",
    "| water (20 $^o$C, 1 atm)   | 998               | 63.3                | 0.998       |\n",
    "| mercury (20 $^o$C, 1 atm) | 13600             | 849                 | 13.6        |\n",
    "| air (20 $^o$C, 1 atm)     | 1.204             | 0.07516             | 0.001204    |\n",
    "| CO$_2$ (20 $^o$C, 1 atm)  | 1.830             | 0.1142              | 0.00183     |\n",
    "\n",
    "```\n",
    "\n",
    "```{figure} fig_air_water_vol_comparison.svg\n",
    "---\n",
    "width: 40%\n",
    "name: fig:air_water_vol_comparison\n",
    "---\n",
    "Relative volumes of air and water for equal masses.\n",
    "```\n",
    "\n",
    "<!--todo: show how density of water and air change with temperature and pressure\n",
    "-->\n",
    "\n",
    "### Specific gravity\n",
    "<a href=\"https://en.wikipedia.org/wiki/Relative_density\" target=\"_blank\">Specific gravity</a> is density divided by a reference density, usually water at 4 $^o$C which has a density of 1000 kg/m$^3$. That is\n",
    "```{math}\n",
    ":name: eq:sg\n",
    "SG = \\frac{\\rho}{\\rho_\\text{H2O}}\n",
    "```\n",
    "Table {numref}`tab:fluid_densities` shows SG values for several common fluids.\n",
    "\n",
    "<div>\n",
    "<button class=\"expandable\">A more extensive list of fluid densities is available here</button>\n",
    "<div class=\"expandable_content\">\n",
    "<iframe src=\"https://en.wikipedia.org/wiki/Density#Densities\" width=100% height=300px></iframe>\n",
    "</div>\n",
    "</div>\n",
    "\n",
    "<!-- <span class=\"hoverme\">Hover over me<br></span> -->\n",
    "<!-- <span class=\"hide\"> isnt this fun! </span> -->"
   ]
  }
 ],
 "metadata": {
  "jupytext": {
   "cell_metadata_filter": "-all",
   "formats": "md:myst",
   "text_representation": {
    "extension": ".md",
    "format_name": "myst",
    "format_version": 0.12,
    "jupytext_version": "1.9.1"
   }
  },
  "kernelspec": {
   "display_name": "Python 3",
   "language": "python",
   "name": "python3"
  },
  "language_info": {
   "codemirror_mode": {
    "name": "ipython",
    "version": 3
   },
   "file_extension": ".py",
   "mimetype": "text/x-python",
   "name": "python",
   "nbconvert_exporter": "python",
   "pygments_lexer": "ipython3",
   "version": "3.9.7"
  },
  "source_map": [
   14
  ]
 },
 "nbformat": 4,
 "nbformat_minor": 5
}